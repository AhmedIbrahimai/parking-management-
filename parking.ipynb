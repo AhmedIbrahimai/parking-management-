{
 "cells": [
  {
   "cell_type": "code",
   "execution_count": null,
   "id": "cc01e6b1",
   "metadata": {
    "scrolled": true
   },
   "outputs": [
    {
     "name": "stderr",
     "output_type": "stream",
     "text": [
      "Using cache found in C:\\Users\\amb/.cache\\torch\\hub\\ultralytics_yolov5_master\n",
      "YOLOv5  2022-12-10 Python-3.8.15 torch-1.13.1 CPU\n",
      "\n",
      "Fusing layers... \n",
      "YOLOv5s summary: 213 layers, 7225885 parameters, 0 gradients\n",
      "Adding AutoShape... \n"
     ]
    }
   ],
   "source": [
    "import cv2\n",
    "import torch\n",
    "import numpy as np\n",
    "\n",
    "\n",
    "def POINTS(event, x, y, flags, param):\n",
    "    if event == cv2.EVENT_MOUSEMOVE :  \n",
    "        colorsBGR = [x, y]\n",
    "        print(colorsBGR)\n",
    "        \n",
    "\n",
    "cv2.namedWindow('FRAME')\n",
    "#cv2.setMouseCallback('FRAME', POINTS)            \n",
    "    \n",
    "           \n",
    "\n",
    "\n",
    "model = torch.hub.load('ultralytics/yolov5', 'yolov5s', pretrained=True)\n",
    "fourcc = cv2.VideoWriter_fourcc(*'XVID') #use any fourcc type to improve quality for the saved video\n",
    "out = cv2.VideoWriter('output.avi', fourcc, 20.0, (640,480)) #Video settings\n",
    "\n",
    "cap=cv2.VideoCapture('parking.mp4')\n",
    "\n",
    "\n",
    "\n",
    "area = [(26,433),(9,516),(389, 492),(786,419),(720,368)]\n",
    "while True:\n",
    "    \n",
    "    ret,frame=cap.read()\n",
    "    if not ret:\n",
    "        break\n",
    "    frame=cv2.resize(frame,(1020,600))\n",
    "\n",
    "    results=model(frame)\n",
    "    #print(results.xyxy[0])\n",
    "    #print(results.pandas().xyxy[0])\n",
    "    #results.pandas()\n",
    "    points = []\n",
    "    for index, row in results.pandas().xyxy[0].iterrows():\n",
    "        #print(row)\n",
    "        x1 = int(row['xmin'])\n",
    "        y1 = int(row['ymin'])\n",
    "        x2 = int(row['xmax'])\n",
    "        y2 = int(row['ymax'])\n",
    "        d=(row['name'])\n",
    "        cx=int(x1+x2)//2\n",
    "        cy=int(y1+y2)//2\n",
    "        if 'car' in d:\n",
    "            results = cv2.pointPolygonTest(np.array(area,np.int32),(cx,cy),False)\n",
    "            #print(results)\n",
    "            if results>=0:\n",
    "                cv2.rectangle(frame,(x1,y1),(x2,y2),(0,0,255),3)\n",
    "                cv2.putText(frame,str(d),(x1,y1),cv2.FONT_HERSHEY_PLAIN,2,(255,0,0),2)\n",
    "                points.append([cx])\n",
    "    a = len(points)\n",
    "    #print(points)\n",
    "    cv2.polylines(frame,[np.array(area,np.int32)],True,(0,255,0),2)\n",
    "    cv2.putText(frame,'number of cars in parking ='+str(a),(50,80),cv2.FONT_HERSHEY_PLAIN,2,(0,0,255),2)\n",
    "                \n",
    "    cv2.imshow(\"FRAME\",frame)\n",
    "    out.write(frame) #save your video\n",
    "    #cv2.setMouseCallback(\"FRAME\",POINTS)\n",
    "   \n",
    "\n",
    "    if cv2.waitKey(1)==27:\n",
    "        break\n",
    "cap.release()\n",
    "out.release()\n",
    "\n",
    "cv2.destroyAllWindows()\n",
    "\n"
   ]
  },
  {
   "cell_type": "code",
   "execution_count": 1,
   "id": "0b62c510",
   "metadata": {},
   "outputs": [],
   "source": [
    "import torch\n"
   ]
  },
  {
   "cell_type": "code",
   "execution_count": 2,
   "id": "5f3abbea",
   "metadata": {},
   "outputs": [],
   "source": [
    "import scipy"
   ]
  },
  {
   "cell_type": "code",
   "execution_count": null,
   "id": "36b092e9",
   "metadata": {},
   "outputs": [],
   "source": []
  }
 ],
 "metadata": {
  "kernelspec": {
   "display_name": "Python 3 (ipykernel)",
   "language": "python",
   "name": "python3"
  },
  "language_info": {
   "codemirror_mode": {
    "name": "ipython",
    "version": 3
   },
   "file_extension": ".py",
   "mimetype": "text/x-python",
   "name": "python",
   "nbconvert_exporter": "python",
   "pygments_lexer": "ipython3",
   "version": "3.8.15"
  }
 },
 "nbformat": 4,
 "nbformat_minor": 5
}
